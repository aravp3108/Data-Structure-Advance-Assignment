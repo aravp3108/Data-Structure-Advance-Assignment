{
  "nbformat": 4,
  "nbformat_minor": 0,
  "metadata": {
    "colab": {
      "provenance": []
    },
    "kernelspec": {
      "name": "python3",
      "display_name": "Python 3"
    },
    "language_info": {
      "name": "python"
    }
  },
  "cells": [
    {
      "cell_type": "code",
      "execution_count": 4,
      "metadata": {
        "colab": {
          "base_uri": "https://localhost:8080/"
        },
        "id": "DgLDHb0g9Bny",
        "outputId": "b835fdf1-303f-4bbf-993e-439c54d3e688"
      },
      "outputs": [
        {
          "output_type": "stream",
          "name": "stdout",
          "text": [
            "LETAP HSOTNAS\n"
          ]
        }
      ],
      "source": [
        "# Q1.Write a code to reverse strings?\n",
        "student_name=\"SANTOSH PATEL\"\n",
        "reverse_student_name= student_name[::-1]\n",
        "print(reverse_student_name)"
      ]
    },
    {
      "cell_type": "code",
      "source": [
        "# Q2.Write 'code to count the number of vowels in' strings?\n",
        "name=\"MUKESHBHAI PATEL\"\n",
        "count=0\n",
        "for i in name:\n",
        "  if i in 'AEIOU':\n",
        "    count=count+1\n",
        "print(\"NO. OF VOWELS IN NAME\", count)"
      ],
      "metadata": {
        "colab": {
          "base_uri": "https://localhost:8080/"
        },
        "id": "hYb0h5KZChGR",
        "outputId": "b58c7076-3ef7-4a3a-fba4-06c40ebc4639"
      },
      "execution_count": 5,
      "outputs": [
        {
          "output_type": "stream",
          "name": "stdout",
          "text": [
            "NO. OF VOWELS IN NAME 6\n"
          ]
        }
      ]
    },
    {
      "cell_type": "code",
      "source": [
        "# Q5. Write 'code to find all occurrences of a given substring within another string.'\n",
        "main_string = \" His name is Arav Patel,Arav Patel is studying in 12th std\"\n",
        "sub_string = \"Arav\"\n",
        "count=0\n",
        "for i in main_string:\n",
        "  if i in \"ARAV\":\n",
        "    count=count+1\n",
        "print(f\"sub_string is occuring {count} times in main_string\")\n",
        "\n",
        ""
      ],
      "metadata": {
        "colab": {
          "base_uri": "https://localhost:8080/"
        },
        "id": "cmaqu1kbGLtp",
        "outputId": "752dac07-e2e1-47c3-f383-071e7698948a"
      },
      "execution_count": 8,
      "outputs": [
        {
          "output_type": "stream",
          "name": "stdout",
          "text": [
            "sub_string is occuring 2 times in main_string\n"
          ]
        }
      ]
    },
    {
      "cell_type": "code",
      "source": [
        "# Q7.Write 'code to determine if a string has all unique characters.?\n",
        "input_string = \"abcdefg\"\n",
        "has_unique_characters = len(set(input_string)) == len(input_string)\n",
        "\n",
        "if has_unique_characters:\n",
        "    print(\"The string has all unique characters.\")\n",
        "else:\n",
        "    print(\"The string does not have all unique characters.\")\n",
        "\n"
      ],
      "metadata": {
        "colab": {
          "base_uri": "https://localhost:8080/"
        },
        "id": "99mq-CQIKl__",
        "outputId": "f37e77b4-125b-4c8e-be46-2512142abe56"
      },
      "execution_count": 2,
      "outputs": [
        {
          "output_type": "stream",
          "name": "stdout",
          "text": [
            "The string has all unique characters.\n"
          ]
        }
      ]
    },
    {
      "cell_type": "code",
      "source": [
        "# Q8. Write 'code to convert a given string to uppercase or lowercase?\n",
        "input_string = \"Hello, World!\"\n",
        "uppercase_string = input_string.upper()\n",
        "lowercase_string = input_string.lower()\n",
        "\n",
        "print(\"Uppercase:\", uppercase_string)\n",
        "print(\"Lowercase:\", lowercase_string)\n"
      ],
      "metadata": {
        "colab": {
          "base_uri": "https://localhost:8080/"
        },
        "id": "4ybnsbtwoxIn",
        "outputId": "02ad6616-eb83-4ce0-87c5-5ee84ad4e8cf"
      },
      "execution_count": 5,
      "outputs": [
        {
          "output_type": "stream",
          "name": "stdout",
          "text": [
            "Uppercase: HELLO, WORLD!\n",
            "Lowercase: hello, world!\n"
          ]
        }
      ]
    },
    {
      "cell_type": "code",
      "source": [
        "# Q9.Write 'code to count the number of words in a string.?\n",
        "input_string = \"This is a sample sentence with five words.\"\n",
        "count=0\n",
        "for i in input_string:\n",
        "  if i!=\" \":\n",
        "   count=count+1\n",
        "print(\"THE TOTAL NO. OF WORDS ARE:\",count)\n",
        "\n"
      ],
      "metadata": {
        "colab": {
          "base_uri": "https://localhost:8080/"
        },
        "id": "4Q1DNroyo3dd",
        "outputId": "4db57002-8cfe-477f-d38e-440a70299d12"
      },
      "execution_count": 6,
      "outputs": [
        {
          "output_type": "stream",
          "name": "stdout",
          "text": [
            "THE TOTAL NO. OF WORDS ARE: 35\n"
          ]
        }
      ]
    },
    {
      "cell_type": "code",
      "source": [
        "# Q10. Write 'code to concatenate two strings without using the + operator.\n",
        "string1 = \"Hello, \"\n",
        "string2 = \"world!\"\n",
        "result= f\"{string1}{string2}\"\n",
        "print(result)"
      ],
      "metadata": {
        "colab": {
          "base_uri": "https://localhost:8080/"
        },
        "id": "GQt0NxqOujgX",
        "outputId": "4a87b725-f332-410b-ad0d-2061a7bee30a"
      },
      "execution_count": 7,
      "outputs": [
        {
          "output_type": "stream",
          "name": "stdout",
          "text": [
            "Hello, world!\n"
          ]
        }
      ]
    },
    {
      "cell_type": "code",
      "source": [
        "# Q 11. Write 'code to remove all occurrences of a specified element from a list.'\n",
        "numbers = [1, 2, 3, 4, 3, 5, 6, 3]\n",
        "element_to_remove = 3\n",
        "numbers = [num for num in numbers if num != element_to_remove]\n",
        "print(numbers)\n",
        "\n",
        "\n"
      ],
      "metadata": {
        "colab": {
          "base_uri": "https://localhost:8080/"
        },
        "id": "lTU1fQL70XIy",
        "outputId": "31a2d6d3-449e-4270-a516-d9ae82cd061e"
      },
      "execution_count": 8,
      "outputs": [
        {
          "output_type": "stream",
          "name": "stdout",
          "text": [
            "[1, 2, 4, 5, 6]\n"
          ]
        }
      ]
    },
    {
      "cell_type": "code",
      "source": [
        "# Q 12.Implement 'code to find the second largest number in a given list of integers?\n",
        "numbers = [10, 5, 20, 15, 30, 25]\n",
        "numbers.sort()\n",
        "second_largest = numbers[-2]\n",
        "print(\"The second largest number is:\", second_largest)"
      ],
      "metadata": {
        "colab": {
          "base_uri": "https://localhost:8080/"
        },
        "id": "ohLnLOXN1q6G",
        "outputId": "0af7de08-bad9-4958-c288-e8a120e16fd5"
      },
      "execution_count": 10,
      "outputs": [
        {
          "output_type": "stream",
          "name": "stdout",
          "text": [
            "The second largest number is: 25\n"
          ]
        }
      ]
    },
    {
      "cell_type": "code",
      "source": [
        "# Q13. Create 'code to count the occurrences of each element in a list and return a dictionary with elements as keys and their counts as values.?\n",
        "names = ['SUNIL','PRAKASH','RAKESH','SURESH','SUNIL','SUNIL','RAKESH','PRAKASH']\n",
        "dict={}\n",
        "for i in names:\n",
        "  if i in dict:\n",
        "    dict[i]=dict[i]+1\n",
        "  else:\n",
        "    dict[i]=1\n",
        "print(dict)"
      ],
      "metadata": {
        "colab": {
          "base_uri": "https://localhost:8080/"
        },
        "id": "JlI3Mw1Z2dGF",
        "outputId": "6c20a4b3-072e-4736-9077-2b5f45cf9be8"
      },
      "execution_count": 12,
      "outputs": [
        {
          "output_type": "stream",
          "name": "stdout",
          "text": [
            "{'SUNIL': 3, 'PRAKASH': 2, 'RAKESH': 2, 'SURESH': 1}\n"
          ]
        }
      ]
    },
    {
      "cell_type": "code",
      "source": [
        "# Q14. Write 'code to reverse a list in-place without using any built-in reverse functions.?\n",
        "numbers = [1, 2, 3, 4, 5]\n",
        "start = 0\n",
        "end = len(numbers) - 1\n",
        "while start < end:\n",
        "    numbers[start], numbers[end] = numbers[end], numbers[start]\n",
        "    start += 1\n",
        "    end -= 1\n",
        "print(numbers)"
      ],
      "metadata": {
        "colab": {
          "base_uri": "https://localhost:8080/"
        },
        "id": "DijrLnil6PEU",
        "outputId": "26165993-cc4e-4500-b768-79fc6e99b404"
      },
      "execution_count": 3,
      "outputs": [
        {
          "output_type": "stream",
          "name": "stdout",
          "text": [
            "[5, 4, 3, 2, 1]\n"
          ]
        }
      ]
    },
    {
      "cell_type": "code",
      "source": [
        "# Q15.Implement 'code to find and remove duplicates from a list while preserving the original order of elements.?\n",
        "numbers = [1, 2, 3, 4, 3, 5, 6, 3]\n",
        "unique_numbers = []\n",
        "for num in numbers:\n",
        "    if num not in unique_numbers:\n",
        "        unique_numbers.append(num)\n",
        "print(unique_numbers)"
      ],
      "metadata": {
        "colab": {
          "base_uri": "https://localhost:8080/"
        },
        "id": "dh3Xhyvr63Ig",
        "outputId": "a97830b2-317b-43bd-a975-75d0f9ac6989"
      },
      "execution_count": 4,
      "outputs": [
        {
          "output_type": "stream",
          "name": "stdout",
          "text": [
            "[1, 2, 3, 4, 5, 6]\n"
          ]
        }
      ]
    },
    {
      "cell_type": "code",
      "source": [
        "# Q16. Create 'code to check if a given list is sorted (either in ascending or descending order) or not.?\n",
        "input_list = [1,2,3,4,5]\n",
        "if input_list == sorted(input_list) or input_list == sorted(input_list,reverse=True) :\n",
        "    print(\"The list is sorted.\")\n",
        "else:\n",
        "    print(\"The list is not sorted.\")\n"
      ],
      "metadata": {
        "colab": {
          "base_uri": "https://localhost:8080/"
        },
        "id": "d3sFDEwS8f69",
        "outputId": "3988e6ad-e9b7-4f17-fd37-f5066d8573fa"
      },
      "execution_count": 11,
      "outputs": [
        {
          "output_type": "stream",
          "name": "stdout",
          "text": [
            "The list is sorted.\n"
          ]
        }
      ]
    },
    {
      "cell_type": "code",
      "source": [
        "# Q17.Write 'code to merge two sorted lists into a single sorted list?\n",
        "list1 = [1, 3, 5, 7, 9]\n",
        "list2 = [2, 4, 6, 8, 10]\n",
        "merged_list = sorted(list1 + list2)\n",
        "print(merged_list)"
      ],
      "metadata": {
        "colab": {
          "base_uri": "https://localhost:8080/"
        },
        "id": "icG0XV6q80yi",
        "outputId": "acba12c4-6306-4d85-e4e4-1f2d35e72b64"
      },
      "execution_count": 12,
      "outputs": [
        {
          "output_type": "stream",
          "name": "stdout",
          "text": [
            "[1, 2, 3, 4, 5, 6, 7, 8, 9, 10]\n"
          ]
        }
      ]
    },
    {
      "cell_type": "code",
      "source": [
        "# Q18.Implement 'code to find the intersection of two given lists?\n",
        "list1 = [1, 2, 3, 4, 5]\n",
        "list2 = [3, 4, 5, 6, 7]\n",
        "intersection = list(set(list1) & set(list2))\n",
        "print(intersection)"
      ],
      "metadata": {
        "colab": {
          "base_uri": "https://localhost:8080/"
        },
        "id": "wtBknNeSEPhG",
        "outputId": "341adeba-9549-495f-8e35-a3316f6e226d"
      },
      "execution_count": 13,
      "outputs": [
        {
          "output_type": "stream",
          "name": "stdout",
          "text": [
            "[3, 4, 5]\n"
          ]
        }
      ]
    },
    {
      "cell_type": "code",
      "source": [
        "# Q19.Create 'code to find the union of two lists without duplicates.?\n",
        "list1= [1,2,2,3,4,5]\n",
        "list2= [2,4,5,6,7]\n",
        "union= list(set(list1) | set(list2))\n",
        "print(union)"
      ],
      "metadata": {
        "colab": {
          "base_uri": "https://localhost:8080/"
        },
        "id": "CiNzOW95E5mP",
        "outputId": "e358539a-4e06-4b7c-e007-43a401a565bd"
      },
      "execution_count": 15,
      "outputs": [
        {
          "output_type": "stream",
          "name": "stdout",
          "text": [
            "[1, 2, 3, 4, 5, 6, 7]\n"
          ]
        }
      ]
    },
    {
      "cell_type": "code",
      "source": [
        "# Q21.Write 'code that takes two tuples as input and returns a new tuple containing elements that are common to both input tuples.?\n",
        "tuple1 = (1, 2,2, 3, 4)\n",
        "tuple2 = (3, 4, 5, 6)\n",
        "tuple3=[]\n",
        "for i in tuple1:\n",
        "  if i in tuple2:\n",
        "    tuple3.append(i)\n",
        "print(tuple(tuple3))"
      ],
      "metadata": {
        "colab": {
          "base_uri": "https://localhost:8080/"
        },
        "id": "pjxedbJJFde4",
        "outputId": "d29b8592-9266-424f-8f74-b80ac5a8b039"
      },
      "execution_count": 3,
      "outputs": [
        {
          "output_type": "stream",
          "name": "stdout",
          "text": [
            "(3, 4)\n"
          ]
        }
      ]
    },
    {
      "cell_type": "code",
      "source": [
        "# Q22.Create 'code that prompts the user to enter two sets of integers separated by commas. Then, print the intersection of these two sets.?\n",
        "\n",
        "set1_input = input(\"Enter the first set of integers (separated by commas): \")\n",
        "set2_input = input(\"Enter the second set of integers (separated by commas): \")\n",
        "set1 = set(set1_input.split(','))\n",
        "set2 = set(set2_input.split(','))\n",
        "\n",
        "intersection = set1 & set2\n",
        "\n",
        "print(\"The intersection of the two sets is:\", sorted(intersection))\n"
      ],
      "metadata": {
        "colab": {
          "base_uri": "https://localhost:8080/"
        },
        "id": "dUwlvJTYTUt6",
        "outputId": "57d55221-dbfc-48f7-c2de-4e5e3fa2fbfb"
      },
      "execution_count": 14,
      "outputs": [
        {
          "output_type": "stream",
          "name": "stdout",
          "text": [
            "Enter the first set of integers (separated by commas): 1,2,3,4,5\n",
            "Enter the second set of integers (separated by commas): 2,3,4,5,6,7\n",
            "The intersection of the two sets is: ['2', '3', '4', '5']\n"
          ]
        }
      ]
    },
    {
      "cell_type": "code",
      "source": [
        "# Q23. Write code to concatenate two tuples. The function should take two tuples as input and return a new tuple containing elements from both input tuples?\n",
        "tuple1 = (1, 2, 3)\n",
        "tuple2 = (4, 5, 6)\n",
        "concatenated_tuple = tuple1 + tuple2\n",
        "print(concatenated_tuple)"
      ],
      "metadata": {
        "colab": {
          "base_uri": "https://localhost:8080/"
        },
        "id": "NtfIUGvCTRoW",
        "outputId": "c695cc78-51ac-4d33-be26-b3bba338925c"
      },
      "execution_count": 1,
      "outputs": [
        {
          "output_type": "stream",
          "name": "stdout",
          "text": [
            "(1, 2, 3, 4, 5, 6)\n"
          ]
        }
      ]
    },
    {
      "cell_type": "code",
      "source": [
        "# Q24. Develop code that prompts the user to input two sets of strings. Then, print the elements that are present in the first set but not in the second set.\n",
        "\n",
        "set1_input = input(\"Enter the first set of strings (separated by commas): \")\n",
        "set2_input = input(\"Enter the second set of strings (separated by commas): \")\n",
        "set1 = set(set1_input.split(','))\n",
        "set2 = set(set2_input.split(','))\n",
        "\n",
        "difference = set1 - set2\n",
        "\n",
        "print(\"Elements in the first set but not in the second set:\", sorted(difference))\n"
      ],
      "metadata": {
        "colab": {
          "base_uri": "https://localhost:8080/"
        },
        "id": "xk0vxDZsVQpp",
        "outputId": "dbab55eb-e276-478b-88ce-18a8bd2e3a27"
      },
      "execution_count": 15,
      "outputs": [
        {
          "output_type": "stream",
          "name": "stdout",
          "text": [
            "Enter the first set of strings (separated by commas): arav, bhav, sam,sun\n",
            "Enter the second set of strings (separated by commas): arav, alex,sam,meet\n",
            "Elements in the first set but not in the second set: [' bhav', ' sam', 'sun']\n"
          ]
        }
      ]
    },
    {
      "cell_type": "code",
      "source": [
        "# Q25. Create code that takes a tuple and two integers as input. The function should return a new tuple containing elements from the original tuple within the specified range of indices?\n",
        "tuple1 = (1, 2, 3, 4, 5, 6, 7, 8, 9, 10)\n",
        "start_index = 2\n",
        "end_index = 6\n",
        "new_tuple = tuple1[start_index:end_index+1]\n",
        "print(new_tuple)\n"
      ],
      "metadata": {
        "colab": {
          "base_uri": "https://localhost:8080/"
        },
        "id": "sN0u2P-zqORG",
        "outputId": "ec2726c4-7c97-443d-a503-dac900314c8d"
      },
      "execution_count": 1,
      "outputs": [
        {
          "output_type": "stream",
          "name": "stdout",
          "text": [
            "(3, 4, 5, 6, 7)\n"
          ]
        }
      ]
    },
    {
      "cell_type": "code",
      "source": [
        "# Q26. Write code that prompts the user to input two sets of characters. Then print the union of these two sets?\n",
        "\n",
        "set1_input = input(\"Enter the first set of characters (separated by commas): \")\n",
        "set2_input = input(\"Enter the second set of characters (separated by commas): \")\n",
        "\n",
        "set1 = set(set1_input.split(','))\n",
        "set2 = set(set2_input.split(','))\n",
        "\n",
        "union = set1 | set2\n",
        "\n",
        "print(\"The union of the two sets is:\", sorted(union))\n"
      ],
      "metadata": {
        "colab": {
          "base_uri": "https://localhost:8080/"
        },
        "id": "n8HUlUGqcTOT",
        "outputId": "16bbdf40-1ce5-4b4e-df83-dacad5c84fe0"
      },
      "execution_count": 4,
      "outputs": [
        {
          "output_type": "stream",
          "name": "stdout",
          "text": [
            "Enter the first set of characters (separated by commas): a,b,c\n",
            "Enter the second set of characters (separated by commas): d,f,s\n",
            "The union of the two sets is: ['a', 'b', 'c', 'd', 'f', 's']\n"
          ]
        }
      ]
    },
    {
      "cell_type": "code",
      "source": [
        "# Q27. Develop code that takes a tuple of integers as input. The function should return the maximum and minimum values from the tuple using tuple unpacking?\n",
        "tuple1 = (1, 2, 3, 4, 5)\n",
        "max_value = max(tuple1)\n",
        "min_value = min(tuple1)\n",
        "print(\"Maximum value:\", max_value)\n",
        "print(\"Minimum value:\", min_value)"
      ],
      "metadata": {
        "colab": {
          "base_uri": "https://localhost:8080/"
        },
        "id": "qZFnqHB8UFGV",
        "outputId": "86cdff15-59b4-4530-ba4f-71a93ee50c21"
      },
      "execution_count": 2,
      "outputs": [
        {
          "output_type": "stream",
          "name": "stdout",
          "text": [
            "Maximum value: 5\n",
            "Minimum value: 1\n"
          ]
        }
      ]
    },
    {
      "cell_type": "code",
      "source": [
        "# Q28. Create code that defines two sets of integers. Then, print the union, intersection, and difference of these two sets?\n",
        "\n",
        "set1 = {1, 2, 3, 4, 5}\n",
        "set2 = {4, 5, 6, 7, 8}\n",
        "\n",
        "union = set1 | set2\n",
        "intersection = set1 & set2\n",
        "difference = set1 - set2\n",
        "\n",
        "# Print the results\n",
        "print(\"Union:\", union)\n",
        "print(\"Intersection:\", intersection)\n",
        "print(\"Difference (set1 - set2):\", difference)\n"
      ],
      "metadata": {
        "colab": {
          "base_uri": "https://localhost:8080/"
        },
        "id": "SE55DSHgm3TN",
        "outputId": "4f2c075e-1ebf-4853-b7a6-dfe39b18a2b3"
      },
      "execution_count": 5,
      "outputs": [
        {
          "output_type": "stream",
          "name": "stdout",
          "text": [
            "Union: {1, 2, 3, 4, 5, 6, 7, 8}\n",
            "Intersection: {4, 5}\n",
            "Difference (set1 - set2): {1, 2, 3}\n"
          ]
        }
      ]
    },
    {
      "cell_type": "code",
      "source": [
        "# Q29. Write code that takes a tuple and an element as input. The function should return the count of occurrences of the given element in the tuple?\n",
        "tuple1 = (1, 2, 3, 4, 2, 5, 6, 2)\n",
        "element = 2\n",
        "count = tuple1.count(element)\n",
        "print(f\"The element {element} appears {count} times in the tuple)\n"
      ],
      "metadata": {
        "id": "mJ7MjNP3UQV0"
      },
      "execution_count": null,
      "outputs": []
    },
    {
      "cell_type": "code",
      "source": [],
      "metadata": {
        "id": "x1mmgjLAqLpY"
      },
      "execution_count": null,
      "outputs": []
    },
    {
      "cell_type": "code",
      "source": [
        "# Q30. Develop code that prompts the user to input two sets of strings. Then, print the symmetric difference of these two sets?\n",
        "set1_input = input(\"Enter the first set of strings (separated by commas): \")\n",
        "set2_input = input(\"Enter the second set of strings (separated by commas): \")\n",
        "set1 = set(set1_input.split(','))\n",
        "set2 = set(set2_input.split(','))\n",
        "\n",
        "symmetric_difference = set1 ^ set2\n",
        "\n",
        "print(\"The symmetric difference of the two sets is:\", sorted(symmetric_difference))\n"
      ],
      "metadata": {
        "colab": {
          "base_uri": "https://localhost:8080/"
        },
        "id": "z0d_-epFqYB8",
        "outputId": "6ec5dbf1-8144-4a32-e415-69eac7205a04"
      },
      "execution_count": 6,
      "outputs": [
        {
          "output_type": "stream",
          "name": "stdout",
          "text": [
            "Enter the first set of strings (separated by commas): a,b,c,d,e\n",
            "Enter the second set of strings (separated by commas): a,b,f,g,d\n",
            "The symmetric difference of the two sets is: ['c', 'e', 'f', 'g']\n"
          ]
        }
      ]
    },
    {
      "cell_type": "code",
      "source": [
        "# Q31. Write code that takes a list of words as input and returns a dictionary where the keys are unique words and the values are the frequencies of those words in the input list?\n",
        "words = input(\"ENTER THE WORDS SEPERATED BY COMMAS:\")\n",
        "list1= list(words.split(','))\n",
        "dict={}\n",
        "for i in list1:\n",
        "  if i in dict:\n",
        "    dict[i]=dict[i]+1\n",
        "  else:\n",
        "    dict[i]=1\n",
        "print(dict)"
      ],
      "metadata": {
        "colab": {
          "base_uri": "https://localhost:8080/"
        },
        "id": "Hnjzkbziw3JE",
        "outputId": "1ebc40db-6209-4f1b-c9dd-df56d7f9cd3a"
      },
      "execution_count": 1,
      "outputs": [
        {
          "output_type": "stream",
          "name": "stdout",
          "text": [
            "ENTER THE WORDS SEPERATED BY COMMAS:a,b,c,a,d,e,f,a,b,s,d,e,f\n",
            "{'a': 3, 'b': 2, 'c': 1, 'd': 2, 'e': 2, 'f': 2, 's': 1}\n"
          ]
        }
      ]
    },
    {
      "cell_type": "code",
      "source": [
        "# Q32.Write code that takes two dictionaries as input and merges them into a single dictionary. If there are common keys, their values should be added together?\n",
        "\n",
        "dict1 = {'a': 1, 'b': 2, 'c': 3}\n",
        "dict2 = {'b': 4, 'd': 5, 'e': 6}\n",
        "\n",
        "merged_dict = {}\n",
        "\n",
        "for key, value in dict1.items():\n",
        "    merged_dict[key] = value\n",
        "\n",
        "for key, value in dict2.items():\n",
        "    if key in merged_dict:\n",
        "        merged_dict[key] += value\n",
        "    else:\n",
        "        merged_dict[key] = value\n",
        "\n",
        "print(\"Merged dictionary:\", merged_dict)\n",
        "\n"
      ],
      "metadata": {
        "colab": {
          "base_uri": "https://localhost:8080/"
        },
        "id": "4Q3iyP0CygTL",
        "outputId": "f1b1bd48-67e7-4437-e08b-f3f50311e034"
      },
      "execution_count": 4,
      "outputs": [
        {
          "output_type": "stream",
          "name": "stdout",
          "text": [
            "Merged dictionary: {'a': 1, 'b': 6, 'c': 3, 'd': 5, 'e': 6}\n"
          ]
        }
      ]
    },
    {
      "cell_type": "code",
      "source": [],
      "metadata": {
        "id": "n8SeeoIzN6Ss"
      },
      "execution_count": null,
      "outputs": []
    }
  ]
}